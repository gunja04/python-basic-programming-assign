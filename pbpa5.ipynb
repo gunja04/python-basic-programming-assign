{
 "cells": [
  {
   "cell_type": "markdown",
   "metadata": {},
   "source": [
    "1. Write a Python Program to Find LCM?\n",
    "2. Write a Python Program to Find HCF?\n",
    "3. Write a Python Program to Convert Decimal to Binary, Octal and Hexadecimal?\n",
    "4. Write a Python Program To Find ASCII value of a character?\n",
    "5. Write a Python Program to Make a Simple Calculator with 4 basic mathematical operations?"
   ]
  },
  {
   "cell_type": "code",
   "execution_count": 2,
   "metadata": {},
   "outputs": [
    {
     "name": "stdout",
     "output_type": "stream",
     "text": [
      "Enter num1 : 4\n",
      "Enter num2 : 5\n",
      "The LCM of 4 and 5 is 20\n"
     ]
    }
   ],
   "source": [
    "#1\n",
    "x = int(input(\"Enter num1 : \"))\n",
    "y = int(input(\"Enter num2 : \"))\n",
    "\n",
    "# big no.\n",
    "if x > y:\n",
    "    big = x\n",
    "else:\n",
    "    big = y\n",
    "    \n",
    "while(True):\n",
    "    if big % x == 0 and big % y == 0 :\n",
    "        lcm = big\n",
    "        break\n",
    "    big+=1\n",
    "    \n",
    "print(\"The LCM of {} and {} is {}\".format(x,y,lcm))"
   ]
  },
  {
   "cell_type": "code",
   "execution_count": 3,
   "metadata": {},
   "outputs": [
    {
     "name": "stdout",
     "output_type": "stream",
     "text": [
      "Enter num1 : 5\n",
      "Enter num2 : 6\n",
      "The hcf of 5 and 6 is 1\n"
     ]
    }
   ],
   "source": [
    "#2\n",
    "x = int(input(\"Enter num1 : \"))\n",
    "y = int(input(\"Enter num2 : \"))\n",
    "\n",
    "# big no\n",
    "if x < y:\n",
    "    small = x\n",
    "else:\n",
    "    small = y\n",
    "hcf = 0   \n",
    "for i in range(1,small+1):\n",
    "    if x % i == 0 and y % i == 0 :\n",
    "        hcf = i\n",
    "    \n",
    "print(\"The hcf of {} and {} is {}\".format(x,y,hcf))"
   ]
  },
  {
   "cell_type": "code",
   "execution_count": 4,
   "metadata": {},
   "outputs": [
    {
     "name": "stdout",
     "output_type": "stream",
     "text": [
      "Enter number :34\n",
      "34 in binary :  0b100010\n",
      "34 in Octal :  0o42\n",
      "34 in Hexadecimal :  0x22\n"
     ]
    }
   ],
   "source": [
    "#3\n",
    "x=int(input(\"Enter number :\"))\n",
    "\n",
    "print(x, \"in binary : \", bin(x))\n",
    "print(x, \"in Octal : \", oct(x))\n",
    "print(x, \"in Hexadecimal : \",hex(x))"
   ]
  },
  {
   "cell_type": "code",
   "execution_count": 5,
   "metadata": {},
   "outputs": [
    {
     "name": "stdout",
     "output_type": "stream",
     "text": [
      "Enter a Charecter : r\n",
      "Ascii value of r is 114\n"
     ]
    }
   ],
   "source": [
    "#4\n",
    "str = input(\"Enter a Charecter : \")\n",
    "# ord gives the ASCII value of a character\n",
    "print(\"Ascii value of {} is {}\".format(str,ord(str)))"
   ]
  },
  {
   "cell_type": "code",
   "execution_count": 6,
   "metadata": {},
   "outputs": [
    {
     "name": "stdout",
     "output_type": "stream",
     "text": [
      "Enter num1 :7\n",
      "Enter num2 :9\n",
      "Enter + to add : \n",
      "Enter - to Sub :\n",
      "Enter * to multi :\n",
      "Enter / to div : +\n",
      "7.0 + 9.0 = 16.0\n"
     ]
    }
   ],
   "source": [
    "#5\n",
    "x = float(input(\"Enter num1 :\"))\n",
    "y = float(input(\"Enter num2 :\"))\n",
    "\n",
    "op = input(\"Enter + to add : \\nEnter - to Sub :\\nEnter * to multi :\\nEnter / to div : \") \n",
    "\n",
    "add = x + y\n",
    "sub = x - y\n",
    "mul = x * y\n",
    "\n",
    "\n",
    "if op == \"+\":\n",
    "    print(\"{} + {} = {}\".format(x,y,add))\n",
    "elif op == \"-\":\n",
    "    print(\"{} - {} = {}\".format(x,y,sub))\n",
    "elif op == \"*\":\n",
    "    print(\"{} * {} = {}\".format(x,y,mul))\n",
    "elif op == \"/\":\n",
    "    if num1 == 0 or num2 == 0:\n",
    "        print(\"Division with zero is not possible\")\n",
    "    else:\n",
    "        div = x / y\n",
    "        print(\"{} / {} = {}\".format(x,y,div))\n",
    "else:\n",
    "    print(\"Invalid input\")"
   ]
  },
  {
   "cell_type": "code",
   "execution_count": null,
   "metadata": {},
   "outputs": [],
   "source": []
  }
 ],
 "metadata": {
  "kernelspec": {
   "display_name": "Python 3",
   "language": "python",
   "name": "python3"
  },
  "language_info": {
   "codemirror_mode": {
    "name": "ipython",
    "version": 3
   },
   "file_extension": ".py",
   "mimetype": "text/x-python",
   "name": "python",
   "nbconvert_exporter": "python",
   "pygments_lexer": "ipython3",
   "version": "3.8.5"
  }
 },
 "nbformat": 4,
 "nbformat_minor": 4
}
