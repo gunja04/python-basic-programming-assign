{
 "cells": [
  {
   "cell_type": "markdown",
   "metadata": {},
   "source": [
    "1. Write a Python program to find sum of elements in list?\n",
    "2. Write a Python program to Multiply all numbers in the list?\n",
    "3. Write a Python program to find smallest number in a list?\n",
    "4. Write a Python program to find largest number in a list?\n",
    "5. Write a Python program to find second largest number in a list?\n",
    "6. Write a Python program to find N largest elements from a list?\n",
    "7. Write a Python program to print even numbers in a list?\n",
    "8. Write a Python program to print odd numbers in a List?\n",
    "9. Write a Python program to Remove empty List from List?\n",
    "10. Write a Python program to Cloning or Copying a list?\n",
    "11. Write a Python program to Count occurrences of an element in a list?"
   ]
  },
  {
   "cell_type": "code",
   "execution_count": 1,
   "metadata": {},
   "outputs": [
    {
     "name": "stdout",
     "output_type": "stream",
     "text": [
      "Enter the lenth of your list : 4\n",
      "1\n",
      "2\n",
      "4\n",
      "5\n",
      "The List is  [1, 2, 4, 5]\n",
      "Sum of elements in List 12\n"
     ]
    }
   ],
   "source": [
    "#1\n",
    "n = int(input(\"Enter the lenth of your list : \"))\n",
    "lst = []\n",
    "\n",
    "for i in range(n):\n",
    "    lst.append(int(input()))\n",
    "print(\"The List is \",lst)\n",
    "print(\"Sum of elements in List\",sum(lst))"
   ]
  },
  {
   "cell_type": "code",
   "execution_count": 2,
   "metadata": {},
   "outputs": [
    {
     "name": "stdout",
     "output_type": "stream",
     "text": [
      "Enter the lenth of your list : 5\n",
      "1\n",
      "2\n",
      "3\n",
      "4\n",
      "5\n",
      "The List is  [1, 2, 3, 4, 5]\n",
      "Product of elements in List is : 120\n"
     ]
    }
   ],
   "source": [
    "#2\n",
    "n = int(input(\"Enter the lenth of your list : \"))\n",
    "lst = []\n",
    "\n",
    "for i in range(n):\n",
    "    lst.append(int(input()))\n",
    "print(\"The List is \",lst)\n",
    "product = 1\n",
    "for i in lst:\n",
    "    product = product*i\n",
    "print(\"Product of elements in List is :\",product)"
   ]
  },
  {
   "cell_type": "code",
   "execution_count": 3,
   "metadata": {},
   "outputs": [
    {
     "name": "stdout",
     "output_type": "stream",
     "text": [
      "Enter the lenth of your list : 3\n",
      "1\n",
      "2\n",
      "3\n",
      "The List is  [1, 2, 3]\n",
      "The Smallest no. in the list is : 1\n"
     ]
    }
   ],
   "source": [
    "#3\n",
    "n = int(input(\"Enter the lenth of your list : \"))\n",
    "lst = []\n",
    "\n",
    "for i in range(n):\n",
    "    lst.append(int(input()))\n",
    "print(\"The List is \",lst)\n",
    "print(\"The Smallest no. in the list is :\",min(lst))"
   ]
  },
  {
   "cell_type": "code",
   "execution_count": 4,
   "metadata": {},
   "outputs": [
    {
     "name": "stdout",
     "output_type": "stream",
     "text": [
      "Enter the lenth of your list : 4\n",
      "1\n",
      "2\n",
      "3\n",
      "4\n",
      "The List is  [1, 2, 3, 4]\n",
      "The largest no. in the list is : 4\n"
     ]
    }
   ],
   "source": [
    "#4\n",
    "n = int(input(\"Enter the lenth of your list : \"))\n",
    "lst = []\n",
    "\n",
    "for i in range(n):\n",
    "    lst.append(int(input()))\n",
    "print(\"The List is \",lst)\n",
    "print(\"The largest no. in the list is :\",max(lst))"
   ]
  },
  {
   "cell_type": "code",
   "execution_count": 9,
   "metadata": {},
   "outputs": [
    {
     "name": "stdout",
     "output_type": "stream",
     "text": [
      "Enter the lenth of your list : 4\n",
      "8\n",
      "3\n",
      "4\n",
      "5\n",
      "The List is  [8, 3, 4, 5]\n",
      "The sorted list is  [3, 4, 5, 8]\n",
      "The second largest number in the list is  5\n"
     ]
    }
   ],
   "source": [
    "#5\n",
    "n = int(input(\"Enter the lenth of your list : \"))\n",
    "lst = []\n",
    "\n",
    "for i in range(n):\n",
    "    lst.append(int(input()))\n",
    "print(\"The List is \",lst)\n",
    "lst.sort()\n",
    "print(\"The sorted list is \",lst)\n",
    "print(\"The second largest number in the list is \",lst[-2])"
   ]
  },
  {
   "cell_type": "code",
   "execution_count": 10,
   "metadata": {},
   "outputs": [
    {
     "name": "stdout",
     "output_type": "stream",
     "text": [
      "Enter the lenth of your list : 4\n",
      "67\n",
      "83\n",
      "23\n",
      "45\n",
      "The List is  [67, 83, 23, 45]\n",
      "The sorted list is  [23, 45, 67, 83]\n",
      "Enter how many largest number you want from list:3\n",
      "3 largest elements from the list are : [45, 67, 83]\n"
     ]
    }
   ],
   "source": [
    "#6\n",
    "n = int(input(\"Enter the lenth of your list : \"))\n",
    "lst = []\n",
    "\n",
    "for i in range(n):\n",
    "    lst.append(int(input()))\n",
    "print(\"The List is \",lst)\n",
    "lst.sort()\n",
    "print(\"The sorted list is \",lst)\n",
    "nlar = int(input(\"Enter how many largest number you want from list:\"))\n",
    "\n",
    "if n < nlar :\n",
    "    print(\"enterted value is larger then the length of list\")\n",
    "else:\n",
    "    print(nlar,\"largest elements from the list are :\",lst[(n-nlar):])"
   ]
  },
  {
   "cell_type": "code",
   "execution_count": 11,
   "metadata": {},
   "outputs": [
    {
     "name": "stdout",
     "output_type": "stream",
     "text": [
      "Enter  the len of the list :6\n",
      "22\n",
      "34\n",
      "55\n",
      "67\n",
      "2\n",
      "56\n",
      "The List is : [22, 34, 55, 67, 2, 56]\n",
      "The even numbers in list [22, 34, 2, 56]\n"
     ]
    }
   ],
   "source": [
    "#7\n",
    "lent =  int(input(\"Enter  the len of the list :\"))\n",
    "lst = []\n",
    "for i in  range(lent):\n",
    "  lst.append(int(input()))\n",
    "print(\"The List is :\" ,lst)\n",
    "even = [i for i in lst if i%2==0 ]\n",
    "print(\"The even numbers in list\" , even)"
   ]
  },
  {
   "cell_type": "code",
   "execution_count": 12,
   "metadata": {},
   "outputs": [
    {
     "name": "stdout",
     "output_type": "stream",
     "text": [
      "Enter  the len of the list :4\n",
      "1\n",
      "89\n",
      "44\n",
      "22\n",
      "The List is : [1, 89, 44, 22]\n",
      "The even numbers in list [1, 89]\n"
     ]
    }
   ],
   "source": [
    "#8\n",
    "lent =  int(input(\"Enter  the len of the list :\"))\n",
    "lst = []\n",
    "for i in  range(lent):\n",
    "  lst.append(int(input()))\n",
    "print(\"The List is :\" ,lst)\n",
    "odd = [i for i in lst if i%2 != 0 ]\n",
    "print(\"The even numbers in list\" , odd)"
   ]
  },
  {
   "cell_type": "code",
   "execution_count": 13,
   "metadata": {},
   "outputs": [
    {
     "name": "stdout",
     "output_type": "stream",
     "text": [
      "The List : [55, [], 14, 75, [], 96, 80, [], 36]\n",
      "The list after removing empty lists : [55, 14, 75, 96, 80, 36]\n"
     ]
    }
   ],
   "source": [
    "#9\n",
    "lst = [55,[],14,75,[],96,80,[],36]\n",
    "print(\"The List :\",lst)\n",
    "new_list = [item for item in lst if item != []]\n",
    "print(\"The list after removing empty lists :\" , new_list)"
   ]
  },
  {
   "cell_type": "code",
   "execution_count": 14,
   "metadata": {},
   "outputs": [
    {
     "name": "stdout",
     "output_type": "stream",
     "text": [
      "Enter the lenth of your list : 4\n",
      "22\n",
      "34\n",
      "23\n",
      "11\n",
      "The List is  [22, 34, 23, 11]\n",
      "Cloning By list copying lst  [22, 34, 23, 11]\n"
     ]
    }
   ],
   "source": [
    "#10\n",
    "n = int(input(\"Enter the lenth of your list : \"))\n",
    "lst = []\n",
    "\n",
    "for i in range(n):\n",
    "    lst.append(int(input()))\n",
    "print(\"The List is \",lst)\n",
    "\n",
    "lst_copy = lst.copy()\n",
    "print(\"Cloning By list copying lst \",lst_copy)"
   ]
  },
  {
   "cell_type": "code",
   "execution_count": 15,
   "metadata": {},
   "outputs": [
    {
     "name": "stdout",
     "output_type": "stream",
     "text": [
      "Enter the lenth of your list : 5\n",
      "11\n",
      "23\n",
      "11\n",
      "6\n",
      "6\n",
      "The List is  [11, 23, 11, 6, 6]\n",
      "Enter the element to find its occurance : 6\n",
      "6 has occured 2 times in the list \n"
     ]
    }
   ],
   "source": [
    "#11\n",
    "lent = int(input(\"Enter the lenth of your list : \"))\n",
    "lst = []\n",
    "\n",
    "for i in range(lent):\n",
    "    lst.append(int(input()))\n",
    "print(\"The List is \",lst)\n",
    "ele= int(input(\"Enter the element to find its occurance : \"))\n",
    "print(ele,\"has occured {} times in the list \".format(lst.count(ele)))"
   ]
  },
  {
   "cell_type": "code",
   "execution_count": null,
   "metadata": {},
   "outputs": [],
   "source": []
  }
 ],
 "metadata": {
  "kernelspec": {
   "display_name": "Python 3",
   "language": "python",
   "name": "python3"
  },
  "language_info": {
   "codemirror_mode": {
    "name": "ipython",
    "version": 3
   },
   "file_extension": ".py",
   "mimetype": "text/x-python",
   "name": "python",
   "nbconvert_exporter": "python",
   "pygments_lexer": "ipython3",
   "version": "3.8.5"
  }
 },
 "nbformat": 4,
 "nbformat_minor": 4
}
