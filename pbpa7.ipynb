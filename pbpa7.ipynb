{
 "cells": [
  {
   "cell_type": "markdown",
   "metadata": {},
   "source": [
    "1. Write a Python Program to find sum of array?\n",
    "2. Write a Python Program to find largest element in an array?\n",
    "3. Write a Python Program for array rotation?\n",
    "4. Write a Python Program to Split the array and add the first part to the end?\n",
    "5. Write a Python Program to check if given array is Monotonic?"
   ]
  },
  {
   "cell_type": "code",
   "execution_count": 2,
   "metadata": {},
   "outputs": [
    {
     "name": "stdout",
     "output_type": "stream",
     "text": [
      "Sum :  21\n"
     ]
    }
   ],
   "source": [
    "#1\n",
    "sum =0\n",
    "arr = [1,2,3,4,5,6]\n",
    "for i in range(0,len(arr)):\n",
    "    sum+=arr[i]\n",
    "print(\"Sum : \",sum)"
   ]
  },
  {
   "cell_type": "code",
   "execution_count": 5,
   "metadata": {},
   "outputs": [
    {
     "name": "stdout",
     "output_type": "stream",
     "text": [
      "66\n",
      "Largest element in [1, 2, 3, 4, 66, 45] is 66\n"
     ]
    }
   ],
   "source": [
    "#2\n",
    "c = 0\n",
    "arr = [1,2,3,4,66,45]\n",
    "for i in range(0, len(arr)):\n",
    "  if c > arr[i]:\n",
    "    print(c)\n",
    "  else :\n",
    "    c = arr[i]\n",
    "\n",
    "print(\"Largest element in {} is {}\".format(arr ,c) )"
   ]
  },
  {
   "cell_type": "code",
   "execution_count": 6,
   "metadata": {},
   "outputs": [
    {
     "name": "stdout",
     "output_type": "stream",
     "text": [
      "9\n",
      "7\n",
      "4\n",
      "3\n",
      "2\n"
     ]
    }
   ],
   "source": [
    "#3\n",
    "arr = [1,2,3,4,7,9]\n",
    "rot = []\n",
    "l = len(arr) -1\n",
    "for i in range(l , 0, -1):\n",
    "  print(arr[i])"
   ]
  },
  {
   "cell_type": "code",
   "execution_count": 11,
   "metadata": {},
   "outputs": [
    {
     "name": "stdout",
     "output_type": "stream",
     "text": [
      "5 6 52 36 12 10 "
     ]
    }
   ],
   "source": [
    "#4\n",
    "def splitArr(arr, n, k): \n",
    "    for i in range(0, k): \n",
    "        x = arr[0]\n",
    "        for j in range(0, n-1):\n",
    "            arr[j] = arr[j + 1]\n",
    "          \n",
    "        arr[n-1] = x\n",
    "          \n",
    "  \n",
    "# main\n",
    "arr = [12, 10, 5, 6, 52, 36]\n",
    "n = len(arr)\n",
    "position = 2\n",
    "  \n",
    "splitArr(arr, n, position)\n",
    "  \n",
    "for i in range(0, n): \n",
    "    print(arr[i], end = ' ')"
   ]
  },
  {
   "cell_type": "code",
   "execution_count": 12,
   "metadata": {},
   "outputs": [
    {
     "name": "stdout",
     "output_type": "stream",
     "text": [
      "Enter the lenth of your list : 5\n",
      "1\n",
      "2\n",
      "3\n",
      "4\n",
      "88\n",
      "The List is  [1, 2, 3, 4, 88]\n",
      "Monotonic\n"
     ]
    }
   ],
   "source": [
    "#5\n",
    "l = int(input(\"Enter the lenth of your list : \"))\n",
    "arr = []\n",
    "\n",
    "for i in range(l):\n",
    "    arr.append(int(input()))\n",
    "print(\"The List is \",arr)\n",
    "\n",
    "if all((arr[i] <= arr[i+1] for i in range(l-1)) or (arr[i] >= lst[i+1] for i in range(l-1))):\n",
    "    print(\"Monotonic\")\n",
    "else:\n",
    "    print(\"Not Monotonic\")"
   ]
  },
  {
   "cell_type": "code",
   "execution_count": null,
   "metadata": {},
   "outputs": [],
   "source": []
  }
 ],
 "metadata": {
  "kernelspec": {
   "display_name": "Python 3",
   "language": "python",
   "name": "python3"
  },
  "language_info": {
   "codemirror_mode": {
    "name": "ipython",
    "version": 3
   },
   "file_extension": ".py",
   "mimetype": "text/x-python",
   "name": "python",
   "nbconvert_exporter": "python",
   "pygments_lexer": "ipython3",
   "version": "3.8.5"
  }
 },
 "nbformat": 4,
 "nbformat_minor": 4
}
