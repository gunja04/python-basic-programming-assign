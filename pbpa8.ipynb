{
 "cells": [
  {
   "cell_type": "markdown",
   "metadata": {},
   "source": [
    "1. Write a Python Program to Add Two Matrices?\n",
    "2. Write a Python Program to Multiply Two Matrices?\n",
    "3. Write a Python Program to Transpose a Matrix?\n",
    "4. Write a Python Program to Sort Words in Alphabetic Order?\n",
    "5. Write a Python Program to Remove Punctuation From a String?"
   ]
  },
  {
   "cell_type": "code",
   "execution_count": 1,
   "metadata": {},
   "outputs": [
    {
     "name": "stdout",
     "output_type": "stream",
     "text": [
      "The Sum of two matrix \n",
      "\n",
      "[[ 1  4  6]\n",
      " [ 7  5 88]\n",
      " [ 8  5 77]]  and \n",
      "\n",
      "[[12 43 74]\n",
      " [ 5  8  3]\n",
      " [ 8  9  9]]  is \n",
      "\n",
      "[[13 47 80]\n",
      " [12 13 91]\n",
      " [16 14 86]] \n"
     ]
    }
   ],
   "source": [
    "#1\n",
    "import numpy as np\n",
    "\n",
    "mat1 = np.array([[1,4,6],\n",
    "        [7,5,88],\n",
    "        [8,5,77]])\n",
    "mat2 = np.array([[12,43,74],\n",
    "        [5,8,3],\n",
    "        [8,9,9]])\n",
    "\n",
    "Matsum = np.add(mat1,mat2)\n",
    "print(\"The Sum of two matrix \\n\\n{}  and \\n\\n{}  is \\n\\n{} \".format(mat1,mat2,Matsum))"
   ]
  },
  {
   "cell_type": "code",
   "execution_count": 2,
   "metadata": {},
   "outputs": [
    {
     "name": "stdout",
     "output_type": "stream",
     "text": [
      "The product of two matrix \n",
      "\n",
      "[[13 42 64]\n",
      " [ 3  7  4]\n",
      " [ 9  1  2]]  and \n",
      "\n",
      "[[ 2  4  7]\n",
      " [55 67  8]\n",
      " [ 8  9  1]]  is \n",
      "\n",
      "[[2848 3442  491]\n",
      " [ 423  517   81]\n",
      " [  89  121   73]] \n"
     ]
    }
   ],
   "source": [
    "#2\n",
    "import numpy as np\n",
    "\n",
    "mat1 = np.array([[13,42,64],\n",
    "        [3,7,4],\n",
    "        [9,1,2]])\n",
    "mat2 = np.array([[2,4,7],\n",
    "        [55,67,8],\n",
    "        [8,9,1]])\n",
    "\n",
    "mulMat = np.dot(mat1,mat2)\n",
    "print(\"The product of two matrix \\n\\n{}  and \\n\\n{}  is \\n\\n{} \".format(mat1,mat2,mulMat))"
   ]
  },
  {
   "cell_type": "code",
   "execution_count": 3,
   "metadata": {},
   "outputs": [
    {
     "name": "stdout",
     "output_type": "stream",
     "text": [
      "Enter N for N x N matrix: 4\n",
      "Enter the element :\n",
      "1\n",
      "2\n",
      "3\n",
      "4\n",
      "5\n",
      "6\n",
      "7\n",
      "8\n",
      "9\n",
      "12\n",
      "34\n",
      "56\n",
      "67\n",
      "89\n",
      "77\n",
      "77\n",
      "Display Array M1 In Matrix Form\n",
      "1 2 3 4 \n",
      "5 6 7 8 \n",
      "9 12 34 56 \n",
      "67 89 77 77 \n",
      "Transposed Matrix\n",
      "[1, 5, 9, 67]\n",
      "[2, 6, 12, 89]\n",
      "[3, 7, 34, 77]\n",
      "[4, 8, 56, 77]\n"
     ]
    }
   ],
   "source": [
    "#3\n",
    "def Matrix(n,v=0):\n",
    "    M=[]             \n",
    "    for i in range(n):\n",
    "        \n",
    "        row =[]\n",
    "        for j in range(n):\n",
    "            row.append(v)\n",
    "        M.append(row)\n",
    "    return(M)\n",
    "\n",
    "def crMatrix(n):\n",
    "    \n",
    "    M=[]             \n",
    "    print(\"Enter the element :\")\n",
    "    for i in range(n):\n",
    "        #stor row\n",
    "        row =[]\n",
    "        for j in range(n):\n",
    "            row.append(int(input()))\n",
    "        M.append(row)\n",
    "    return(M)\n",
    "\n",
    "def prMatrix(M,n):\n",
    "    for i in range(n):\n",
    "        for j in range(n):\n",
    "            print(M[i][j], end=\" \")\n",
    "        print() \n",
    "\n",
    "def tpMatrix(M,n,result):\n",
    "    for i in range(n):\n",
    "        for j in range(n):\n",
    "            result[i][j]= M[j][i]\n",
    "    return result\n",
    "\n",
    "n=int(input(\"Enter N for N x N matrix: \"))  \n",
    "M1 = crMatrix(n)\n",
    "\n",
    "print(\"Display Array M1 In Matrix Form\")\n",
    "prMatrix(M1,n)\n",
    "\n",
    "result = Matrix(n)\n",
    "result = tpMatrix(M1,n,result)\n",
    "print(\"Transposed Matrix\")\n",
    "for r in result:\n",
    "    print(r)"
   ]
  },
  {
   "cell_type": "code",
   "execution_count": 4,
   "metadata": {},
   "outputs": [
    {
     "name": "stdout",
     "output_type": "stream",
     "text": [
      "Enter string i am good\n",
      "am\n",
      "good\n",
      "i\n"
     ]
    }
   ],
   "source": [
    "#4\n",
    "Arr = input(\"Enter string\")\n",
    "\n",
    "words = Arr.split()\n",
    "words.sort()\n",
    "for word in words:\n",
    "    print(word)"
   ]
  },
  {
   "cell_type": "code",
   "execution_count": 5,
   "metadata": {},
   "outputs": [
    {
     "name": "stdout",
     "output_type": "stream",
     "text": [
      "Enter a string with punctuationsi!like()me///better\n",
      "ilikemebetter\n"
     ]
    }
   ],
   "source": [
    "#5\n",
    "punctuations = '''!()-[]{};:'\"\\,<>./?@#$%^&*_~'''\n",
    "\n",
    "Arr = input(\"Enter a string with punctuations\")\n",
    "\n",
    "\n",
    "rem_punc = \"\"\n",
    "for i in Arr:\n",
    "    if i not in punctuations:\n",
    "        rem_punc = rem_punc + i\n",
    "\n",
    "# display \n",
    "print(rem_punc)"
   ]
  },
  {
   "cell_type": "code",
   "execution_count": null,
   "metadata": {},
   "outputs": [],
   "source": []
  }
 ],
 "metadata": {
  "kernelspec": {
   "display_name": "Python 3",
   "language": "python",
   "name": "python3"
  },
  "language_info": {
   "codemirror_mode": {
    "name": "ipython",
    "version": 3
   },
   "file_extension": ".py",
   "mimetype": "text/x-python",
   "name": "python",
   "nbconvert_exporter": "python",
   "pygments_lexer": "ipython3",
   "version": "3.8.5"
  }
 },
 "nbformat": 4,
 "nbformat_minor": 4
}
